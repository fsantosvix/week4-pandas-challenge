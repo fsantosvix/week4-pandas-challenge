{
 "cells": [
  {
   "cell_type": "markdown",
   "metadata": {},
   "source": [
    "### Note\n",
    "* Instructions have been included for each segment. You do not have to follow them exactly, but they are included to help you think through the steps."
   ]
  },
  {
   "cell_type": "code",
   "execution_count": 1,
   "metadata": {
    "tags": []
   },
   "outputs": [],
   "source": [
    "# Dependencies and Setup\n",
    "import pandas as pd\n",
    "from pathlib import Path\n",
    "\n",
    "# File to Load (Remember to Change These)\n",
    "school_data_to_load = Path(\"Resources/schools_complete.csv\")\n",
    "student_data_to_load = Path(\"Resources/students_complete.csv\")\n",
    "\n",
    "# Read School and Student Data File and store into Pandas DataFrames\n",
    "school_data = pd.read_csv(school_data_to_load)\n",
    "student_data = pd.read_csv(student_data_to_load)\n",
    "\n",
    "# Combine the data into a single dataset.  \n",
    "school_data_complete = pd.merge(student_data, school_data, how=\"left\", on=[\"school_name\", \"school_name\"])"
   ]
  },
  {
   "cell_type": "markdown",
   "metadata": {
    "tags": []
   },
   "source": [
    "## Local Government Area Summary\n",
    "\n",
    "* Calculate the total number of schools\n",
    "\n",
    "* Calculate the total number of students\n",
    "\n",
    "* Calculate the total budget\n",
    "\n",
    "* Calculate the average maths score \n",
    "\n",
    "* Calculate the average reading score\n",
    "\n",
    "* Calculate the percentage of students with a passing maths score (50 or greater)\n",
    "\n",
    "* Calculate the percentage of students with a passing reading score (50 or greater)\n",
    "\n",
    "* Calculate the percentage of students who passed maths **and** reading (% Overall Passing)\n",
    "\n",
    "* Create a dataframe to hold the above results\n",
    "\n",
    "* Optional: give the displayed data cleaner formatting"
   ]
  },
  {
   "cell_type": "code",
   "execution_count": 2,
   "metadata": {
    "tags": []
   },
   "outputs": [],
   "source": [
    "# identify the unique records for 'School ID'\n",
    "unique_schools = school_data['School ID'].unique()\n",
    "\n",
    "# determine how many items are in the unique_schools array                                              \n",
    "total_schools = len(unique_schools)"
   ]
  },
  {
   "cell_type": "code",
   "execution_count": 3,
   "metadata": {
    "tags": []
   },
   "outputs": [],
   "source": [
    "# identify the unique records for 'Student ID'\n",
    "unique_studets = student_data['Student ID'].unique()\n",
    "\n",
    "# determine how many items are in the unique_students array                                              \n",
    "total_students = len(unique_studets)\n",
    "\n",
    "# format the variable to add the thousand separator\n",
    "formatted_total_students = f'{len(unique_studets):,}'"
   ]
  },
  {
   "cell_type": "code",
   "execution_count": 4,
   "metadata": {
    "tags": []
   },
   "outputs": [],
   "source": [
    "# sum column 'budget' from school_data to determine the total budget\n",
    "total_budget = school_data['budget'].sum()\n",
    "\n",
    "# format the variable to add the '$' signal and present 2 decimal places\n",
    "formatted_total_budget = f'${total_budget:,.2f}'"
   ]
  },
  {
   "cell_type": "code",
   "execution_count": 5,
   "metadata": {
    "tags": []
   },
   "outputs": [],
   "source": [
    "# find the average of the maths_score column using the mean function\n",
    "average_maths = round(student_data['maths_score'].mean(),2)"
   ]
  },
  {
   "cell_type": "code",
   "execution_count": 6,
   "metadata": {
    "tags": []
   },
   "outputs": [],
   "source": [
    "# find the average of the reading_score column using the mean function\n",
    "average_reading = round(student_data['reading_score'].mean(),2)"
   ]
  },
  {
   "cell_type": "code",
   "execution_count": 7,
   "metadata": {
    "tags": []
   },
   "outputs": [],
   "source": [
    "# filter data containing only Maths Scores equal or greater than 50\n",
    "maths_passing = student_data.loc[(student_data['maths_score'] >= 50) ]"
   ]
  },
  {
   "cell_type": "code",
   "execution_count": 8,
   "metadata": {
    "tags": []
   },
   "outputs": [],
   "source": [
    "# filter data containing only Reading Scores equal or greater than 50\n",
    "reading_passing = student_data.loc[(student_data['reading_score'] >= 50) ]"
   ]
  },
  {
   "cell_type": "code",
   "execution_count": 9,
   "metadata": {
    "tags": []
   },
   "outputs": [],
   "source": [
    "# use loc function to filter the students with score >= 50 in reading_score AND maths_score\n",
    "overall_passing = student_data.loc[(student_data['reading_score'] >= 50) & (student_data['maths_score'] >= 50) ]"
   ]
  },
  {
   "cell_type": "code",
   "execution_count": 10,
   "metadata": {
    "tags": []
   },
   "outputs": [],
   "source": [
    "# count how many students are in the 'maths_score >=50' list filtered and convert that into percentage in relation to the total students\n",
    "percentage_maths_passing = round(len(maths_passing) / total_students * 100,2)"
   ]
  },
  {
   "cell_type": "code",
   "execution_count": 11,
   "metadata": {
    "tags": []
   },
   "outputs": [],
   "source": [
    "# count how many students are in the 'reading_score >=50' list filtered and convert that into percentage in relation to the total students\n",
    "percentage_reading_passing = round(len(reading_passing) / total_students * 100,2)"
   ]
  },
  {
   "cell_type": "code",
   "execution_count": 12,
   "metadata": {
    "tags": []
   },
   "outputs": [],
   "source": [
    "# count how many students are in the 'maths AND reading >=50' list filtered and convert that into percentage in relation to the total students\n",
    "percentage_overall_passing = round(len(overall_passing) / total_students * 100,2)\n"
   ]
  },
  {
   "cell_type": "code",
   "execution_count": 13,
   "metadata": {
    "tags": []
   },
   "outputs": [
    {
     "data": {
      "text/html": [
       "<div>\n",
       "<style scoped>\n",
       "    .dataframe tbody tr th:only-of-type {\n",
       "        vertical-align: middle;\n",
       "    }\n",
       "\n",
       "    .dataframe tbody tr th {\n",
       "        vertical-align: top;\n",
       "    }\n",
       "\n",
       "    .dataframe thead th {\n",
       "        text-align: right;\n",
       "    }\n",
       "</style>\n",
       "<table border=\"1\" class=\"dataframe\">\n",
       "  <thead>\n",
       "    <tr style=\"text-align: right;\">\n",
       "      <th></th>\n",
       "      <th>Total Schools</th>\n",
       "      <th>Total Students</th>\n",
       "      <th>Total Budget</th>\n",
       "      <th>Average Maths Score</th>\n",
       "      <th>Average Reading Score</th>\n",
       "      <th>% Passing Maths</th>\n",
       "      <th>% Passing Reading</th>\n",
       "      <th>% Overall Passing</th>\n",
       "    </tr>\n",
       "  </thead>\n",
       "  <tbody>\n",
       "    <tr>\n",
       "      <th>0</th>\n",
       "      <td>15</td>\n",
       "      <td>39,170</td>\n",
       "      <td>$24,649,428.00</td>\n",
       "      <td>70.34</td>\n",
       "      <td>69.98</td>\n",
       "      <td>86.08</td>\n",
       "      <td>84.43</td>\n",
       "      <td>72.81</td>\n",
       "    </tr>\n",
       "  </tbody>\n",
       "</table>\n",
       "</div>"
      ],
      "text/plain": [
       "   Total Schools Total Students    Total Budget  Average Maths Score  \\\n",
       "0             15         39,170  $24,649,428.00                70.34   \n",
       "\n",
       "   Average Reading Score  % Passing Maths  % Passing Reading  \\\n",
       "0                  69.98            86.08              84.43   \n",
       "\n",
       "   % Overall Passing  \n",
       "0              72.81  "
      ]
     },
     "execution_count": 13,
     "metadata": {},
     "output_type": "execute_result"
    }
   ],
   "source": [
    "# create a Dataframe with the results found\n",
    "lga_summary = pd.DataFrame({'Total Schools':[total_schools],\n",
    "             'Total Students':formatted_total_students,\n",
    "             'Total Budget':formatted_total_budget,\n",
    "             'Average Maths Score':average_maths,\n",
    "             'Average Reading Score':average_reading,\n",
    "             '% Passing Maths':percentage_maths_passing,\n",
    "             '% Passing Reading':percentage_reading_passing,\n",
    "             '% Overall Passing':percentage_overall_passing,\n",
    "             })\n",
    "# display the dataframe\n",
    "lga_summary"
   ]
  },
  {
   "cell_type": "markdown",
   "metadata": {
    "tags": []
   },
   "source": [
    "## School Summary"
   ]
  },
  {
   "cell_type": "markdown",
   "metadata": {
    "tags": []
   },
   "source": [
    "* Create an overview table that summarises key metrics about each school, including:\n",
    "  * School Name\n",
    "  * School Type\n",
    "  * Total Students\n",
    "  * Total School Budget\n",
    "  * Per Student Budget\n",
    "  * Average Maths Score\n",
    "  * Average Reading Score\n",
    "  * % Passing Maths\n",
    "  * % Passing Reading\n",
    "  * % Overall Passing (The percentage of students that passed maths **and** reading.)\n",
    "  \n",
    "* Create a dataframe to hold the above results"
   ]
  },
  {
   "cell_type": "code",
   "execution_count": 14,
   "metadata": {
    "tags": []
   },
   "outputs": [],
   "source": [
    "# create a second dataframe with the relevant columns from the school_data, to manipulate the data\n",
    "school_data2 = school_data[['school_name','type','size','budget']]\n"
   ]
  },
  {
   "cell_type": "code",
   "execution_count": 15,
   "metadata": {
    "tags": []
   },
   "outputs": [],
   "source": [
    "# calculate the budget per student\n",
    "per_student_budget = school_data2['budget'] / school_data2['size']\n",
    "\n",
    "# add the calculation as a new column into the dataframe\n",
    "school_data2['Per Student Budget'] = per_student_budget\n"
   ]
  },
  {
   "cell_type": "code",
   "execution_count": 16,
   "metadata": {
    "tags": []
   },
   "outputs": [],
   "source": [
    "# sort data by 'school_name'\n",
    "sorted_by_school_df = school_data2.sort_values('school_name')\n",
    "\n",
    "# set the 'school_name' as the index of the dataframe\n",
    "sorted_by_school_df.set_index('school_name', inplace = True)\n"
   ]
  },
  {
   "cell_type": "code",
   "execution_count": 17,
   "metadata": {
    "tags": []
   },
   "outputs": [],
   "source": [
    "# format the school budget to add the '$' signal and present 2 decimal places\n",
    "school_budget = sorted_by_school_df['budget'].map('${:,.2f}'.format)\n"
   ]
  },
  {
   "cell_type": "code",
   "execution_count": 18,
   "metadata": {
    "tags": []
   },
   "outputs": [],
   "source": [
    "# format the budget per student data to add the '$' signal and present 2 decimal places\n",
    "formatted_per_student_budget = sorted_by_school_df['Per Student Budget'].map('${:,.2f}'.format)\n"
   ]
  },
  {
   "cell_type": "code",
   "execution_count": 19,
   "metadata": {
    "tags": []
   },
   "outputs": [],
   "source": [
    "# group student data by school_name to consolidate information and allow calculating averages per school\n",
    "grouped_student_df = student_data.groupby([\"school_name\"])\n"
   ]
  },
  {
   "cell_type": "code",
   "execution_count": 20,
   "metadata": {
    "tags": []
   },
   "outputs": [],
   "source": [
    "# store the average maths scores in a variable\n",
    "school_avg_maths = round(grouped_student_df['maths_score'].mean(),2)\n"
   ]
  },
  {
   "cell_type": "code",
   "execution_count": 21,
   "metadata": {
    "tags": []
   },
   "outputs": [],
   "source": [
    "# store the average reading scores in a variable\n",
    "school_avg_reading = round(grouped_student_df['reading_score'].mean(),2)\n"
   ]
  },
  {
   "cell_type": "code",
   "execution_count": 22,
   "metadata": {
    "tags": []
   },
   "outputs": [],
   "source": [
    "# identify how many students are above the pass grade for maths per school\n",
    "maths_passing_per_school = maths_passing['school_name'].value_counts()\n",
    "\n",
    "# calculate the percentage of students above the pass grade per school\n",
    "pct_maths_passing_per_school = round(maths_passing_per_school / sorted_by_school_df['size'] * 100,2)\n"
   ]
  },
  {
   "cell_type": "code",
   "execution_count": 23,
   "metadata": {
    "tags": []
   },
   "outputs": [],
   "source": [
    "# identify how many students are above the pass grade for reading per school\n",
    "reading_passing_per_school = reading_passing['school_name'].value_counts()\n",
    "\n",
    "# calculate the percentage of students above the pass grade per school\n",
    "pct_reading_passing_per_school = round(reading_passing_per_school / sorted_by_school_df['size'] * 100,2)\n"
   ]
  },
  {
   "cell_type": "code",
   "execution_count": 24,
   "metadata": {
    "tags": []
   },
   "outputs": [],
   "source": [
    "# identify how many students are above the pass grade for reading AND maths per school\n",
    "overall_passing_per_school = overall_passing['school_name'].value_counts()\n",
    "\n",
    "# calculate the percentage of students above the pass grade for reading AND maths per school\n",
    "pct_overall_passing_per_school = round(overall_passing_per_school / sorted_by_school_df['size'] * 100,2)\n"
   ]
  },
  {
   "cell_type": "code",
   "execution_count": 25,
   "metadata": {
    "tags": []
   },
   "outputs": [
    {
     "data": {
      "text/html": [
       "<div>\n",
       "<style scoped>\n",
       "    .dataframe tbody tr th:only-of-type {\n",
       "        vertical-align: middle;\n",
       "    }\n",
       "\n",
       "    .dataframe tbody tr th {\n",
       "        vertical-align: top;\n",
       "    }\n",
       "\n",
       "    .dataframe thead th {\n",
       "        text-align: right;\n",
       "    }\n",
       "</style>\n",
       "<table border=\"1\" class=\"dataframe\">\n",
       "  <thead>\n",
       "    <tr style=\"text-align: right;\">\n",
       "      <th></th>\n",
       "      <th>School Type</th>\n",
       "      <th>Total Students</th>\n",
       "      <th>Total School Budget</th>\n",
       "      <th>Per Student Budget</th>\n",
       "      <th>Average Maths Score</th>\n",
       "      <th>Average Reading Score</th>\n",
       "      <th>% Passing Maths</th>\n",
       "      <th>% Passing Reading</th>\n",
       "      <th>% Overall Passing</th>\n",
       "    </tr>\n",
       "  </thead>\n",
       "  <tbody>\n",
       "    <tr>\n",
       "      <th>Bailey High School</th>\n",
       "      <td>Government</td>\n",
       "      <td>4976</td>\n",
       "      <td>$3,124,928.00</td>\n",
       "      <td>$628.00</td>\n",
       "      <td>72.35</td>\n",
       "      <td>71.01</td>\n",
       "      <td>91.64</td>\n",
       "      <td>87.38</td>\n",
       "      <td>80.08</td>\n",
       "    </tr>\n",
       "    <tr>\n",
       "      <th>Cabrera High School</th>\n",
       "      <td>Independent</td>\n",
       "      <td>1858</td>\n",
       "      <td>$1,081,356.00</td>\n",
       "      <td>$582.00</td>\n",
       "      <td>71.66</td>\n",
       "      <td>71.36</td>\n",
       "      <td>90.85</td>\n",
       "      <td>89.07</td>\n",
       "      <td>80.79</td>\n",
       "    </tr>\n",
       "    <tr>\n",
       "      <th>Figueroa High School</th>\n",
       "      <td>Government</td>\n",
       "      <td>2949</td>\n",
       "      <td>$1,884,411.00</td>\n",
       "      <td>$639.00</td>\n",
       "      <td>68.70</td>\n",
       "      <td>69.08</td>\n",
       "      <td>81.65</td>\n",
       "      <td>82.81</td>\n",
       "      <td>67.65</td>\n",
       "    </tr>\n",
       "    <tr>\n",
       "      <th>Ford High School</th>\n",
       "      <td>Government</td>\n",
       "      <td>2739</td>\n",
       "      <td>$1,763,916.00</td>\n",
       "      <td>$644.00</td>\n",
       "      <td>69.09</td>\n",
       "      <td>69.57</td>\n",
       "      <td>82.44</td>\n",
       "      <td>82.22</td>\n",
       "      <td>67.47</td>\n",
       "    </tr>\n",
       "    <tr>\n",
       "      <th>Griffin High School</th>\n",
       "      <td>Independent</td>\n",
       "      <td>1468</td>\n",
       "      <td>$917,500.00</td>\n",
       "      <td>$625.00</td>\n",
       "      <td>71.79</td>\n",
       "      <td>71.25</td>\n",
       "      <td>91.21</td>\n",
       "      <td>88.49</td>\n",
       "      <td>81.34</td>\n",
       "    </tr>\n",
       "    <tr>\n",
       "      <th>Hernandez High School</th>\n",
       "      <td>Government</td>\n",
       "      <td>4635</td>\n",
       "      <td>$3,022,020.00</td>\n",
       "      <td>$652.00</td>\n",
       "      <td>68.87</td>\n",
       "      <td>69.19</td>\n",
       "      <td>80.95</td>\n",
       "      <td>81.88</td>\n",
       "      <td>66.36</td>\n",
       "    </tr>\n",
       "    <tr>\n",
       "      <th>Holden High School</th>\n",
       "      <td>Independent</td>\n",
       "      <td>427</td>\n",
       "      <td>$248,087.00</td>\n",
       "      <td>$581.00</td>\n",
       "      <td>72.58</td>\n",
       "      <td>71.66</td>\n",
       "      <td>89.93</td>\n",
       "      <td>88.52</td>\n",
       "      <td>78.92</td>\n",
       "    </tr>\n",
       "    <tr>\n",
       "      <th>Huang High School</th>\n",
       "      <td>Government</td>\n",
       "      <td>2917</td>\n",
       "      <td>$1,910,635.00</td>\n",
       "      <td>$655.00</td>\n",
       "      <td>68.94</td>\n",
       "      <td>68.91</td>\n",
       "      <td>81.69</td>\n",
       "      <td>81.45</td>\n",
       "      <td>66.71</td>\n",
       "    </tr>\n",
       "    <tr>\n",
       "      <th>Johnson High School</th>\n",
       "      <td>Government</td>\n",
       "      <td>4761</td>\n",
       "      <td>$3,094,650.00</td>\n",
       "      <td>$650.00</td>\n",
       "      <td>68.84</td>\n",
       "      <td>69.04</td>\n",
       "      <td>82.06</td>\n",
       "      <td>81.98</td>\n",
       "      <td>67.19</td>\n",
       "    </tr>\n",
       "    <tr>\n",
       "      <th>Pena High School</th>\n",
       "      <td>Independent</td>\n",
       "      <td>962</td>\n",
       "      <td>$585,858.00</td>\n",
       "      <td>$609.00</td>\n",
       "      <td>72.09</td>\n",
       "      <td>71.61</td>\n",
       "      <td>91.68</td>\n",
       "      <td>86.59</td>\n",
       "      <td>79.21</td>\n",
       "    </tr>\n",
       "    <tr>\n",
       "      <th>Rodriguez High School</th>\n",
       "      <td>Government</td>\n",
       "      <td>3999</td>\n",
       "      <td>$2,547,363.00</td>\n",
       "      <td>$637.00</td>\n",
       "      <td>72.05</td>\n",
       "      <td>70.94</td>\n",
       "      <td>90.80</td>\n",
       "      <td>87.40</td>\n",
       "      <td>79.42</td>\n",
       "    </tr>\n",
       "    <tr>\n",
       "      <th>Shelton High School</th>\n",
       "      <td>Independent</td>\n",
       "      <td>1761</td>\n",
       "      <td>$1,056,600.00</td>\n",
       "      <td>$600.00</td>\n",
       "      <td>72.03</td>\n",
       "      <td>70.26</td>\n",
       "      <td>91.54</td>\n",
       "      <td>86.71</td>\n",
       "      <td>78.88</td>\n",
       "    </tr>\n",
       "    <tr>\n",
       "      <th>Thomas High School</th>\n",
       "      <td>Independent</td>\n",
       "      <td>1635</td>\n",
       "      <td>$1,043,130.00</td>\n",
       "      <td>$638.00</td>\n",
       "      <td>69.58</td>\n",
       "      <td>69.77</td>\n",
       "      <td>83.85</td>\n",
       "      <td>82.63</td>\n",
       "      <td>69.48</td>\n",
       "    </tr>\n",
       "    <tr>\n",
       "      <th>Wilson High School</th>\n",
       "      <td>Independent</td>\n",
       "      <td>2283</td>\n",
       "      <td>$1,319,574.00</td>\n",
       "      <td>$578.00</td>\n",
       "      <td>69.17</td>\n",
       "      <td>68.88</td>\n",
       "      <td>82.79</td>\n",
       "      <td>81.30</td>\n",
       "      <td>67.46</td>\n",
       "    </tr>\n",
       "    <tr>\n",
       "      <th>Wright High School</th>\n",
       "      <td>Independent</td>\n",
       "      <td>1800</td>\n",
       "      <td>$1,049,400.00</td>\n",
       "      <td>$583.00</td>\n",
       "      <td>72.05</td>\n",
       "      <td>70.97</td>\n",
       "      <td>91.78</td>\n",
       "      <td>86.67</td>\n",
       "      <td>79.72</td>\n",
       "    </tr>\n",
       "  </tbody>\n",
       "</table>\n",
       "</div>"
      ],
      "text/plain": [
       "                       School Type  Total Students Total School Budget  \\\n",
       "Bailey High School      Government            4976       $3,124,928.00   \n",
       "Cabrera High School    Independent            1858       $1,081,356.00   \n",
       "Figueroa High School    Government            2949       $1,884,411.00   \n",
       "Ford High School        Government            2739       $1,763,916.00   \n",
       "Griffin High School    Independent            1468         $917,500.00   \n",
       "Hernandez High School   Government            4635       $3,022,020.00   \n",
       "Holden High School     Independent             427         $248,087.00   \n",
       "Huang High School       Government            2917       $1,910,635.00   \n",
       "Johnson High School     Government            4761       $3,094,650.00   \n",
       "Pena High School       Independent             962         $585,858.00   \n",
       "Rodriguez High School   Government            3999       $2,547,363.00   \n",
       "Shelton High School    Independent            1761       $1,056,600.00   \n",
       "Thomas High School     Independent            1635       $1,043,130.00   \n",
       "Wilson High School     Independent            2283       $1,319,574.00   \n",
       "Wright High School     Independent            1800       $1,049,400.00   \n",
       "\n",
       "                      Per Student Budget  Average Maths Score  \\\n",
       "Bailey High School               $628.00                72.35   \n",
       "Cabrera High School              $582.00                71.66   \n",
       "Figueroa High School             $639.00                68.70   \n",
       "Ford High School                 $644.00                69.09   \n",
       "Griffin High School              $625.00                71.79   \n",
       "Hernandez High School            $652.00                68.87   \n",
       "Holden High School               $581.00                72.58   \n",
       "Huang High School                $655.00                68.94   \n",
       "Johnson High School              $650.00                68.84   \n",
       "Pena High School                 $609.00                72.09   \n",
       "Rodriguez High School            $637.00                72.05   \n",
       "Shelton High School              $600.00                72.03   \n",
       "Thomas High School               $638.00                69.58   \n",
       "Wilson High School               $578.00                69.17   \n",
       "Wright High School               $583.00                72.05   \n",
       "\n",
       "                       Average Reading Score  % Passing Maths  \\\n",
       "Bailey High School                     71.01            91.64   \n",
       "Cabrera High School                    71.36            90.85   \n",
       "Figueroa High School                   69.08            81.65   \n",
       "Ford High School                       69.57            82.44   \n",
       "Griffin High School                    71.25            91.21   \n",
       "Hernandez High School                  69.19            80.95   \n",
       "Holden High School                     71.66            89.93   \n",
       "Huang High School                      68.91            81.69   \n",
       "Johnson High School                    69.04            82.06   \n",
       "Pena High School                       71.61            91.68   \n",
       "Rodriguez High School                  70.94            90.80   \n",
       "Shelton High School                    70.26            91.54   \n",
       "Thomas High School                     69.77            83.85   \n",
       "Wilson High School                     68.88            82.79   \n",
       "Wright High School                     70.97            91.78   \n",
       "\n",
       "                       % Passing Reading  % Overall Passing  \n",
       "Bailey High School                 87.38              80.08  \n",
       "Cabrera High School                89.07              80.79  \n",
       "Figueroa High School               82.81              67.65  \n",
       "Ford High School                   82.22              67.47  \n",
       "Griffin High School                88.49              81.34  \n",
       "Hernandez High School              81.88              66.36  \n",
       "Holden High School                 88.52              78.92  \n",
       "Huang High School                  81.45              66.71  \n",
       "Johnson High School                81.98              67.19  \n",
       "Pena High School                   86.59              79.21  \n",
       "Rodriguez High School              87.40              79.42  \n",
       "Shelton High School                86.71              78.88  \n",
       "Thomas High School                 82.63              69.48  \n",
       "Wilson High School                 81.30              67.46  \n",
       "Wright High School                 86.67              79.72  "
      ]
     },
     "execution_count": 25,
     "metadata": {},
     "output_type": "execute_result"
    }
   ],
   "source": [
    "# create a Dataframe with the results found\n",
    "school_summary = pd.DataFrame({'School Type':sorted_by_school_df['type'],\n",
    "                              'Total Students':sorted_by_school_df['size'],\n",
    "                              'Total School Budget':school_budget,\n",
    "                              'Per Student Budget':formatted_per_student_budget,\n",
    "                              'Average Maths Score':school_avg_maths,\n",
    "                              'Average Reading Score':school_avg_reading,\n",
    "                              '% Passing Maths':pct_maths_passing_per_school,\n",
    "                              '% Passing Reading':pct_reading_passing_per_school,\n",
    "                              '% Overall Passing':pct_overall_passing_per_school,\n",
    "                              })\n",
    "# display the dataframe\n",
    "school_summary"
   ]
  },
  {
   "cell_type": "markdown",
   "metadata": {},
   "source": [
    "## Top Performing Schools (By % Overall Passing)"
   ]
  },
  {
   "cell_type": "markdown",
   "metadata": {},
   "source": [
    "* Sort and display the top five performing schools by % overall passing."
   ]
  },
  {
   "cell_type": "code",
   "execution_count": 26,
   "metadata": {
    "scrolled": true,
    "tags": []
   },
   "outputs": [
    {
     "data": {
      "text/html": [
       "<div>\n",
       "<style scoped>\n",
       "    .dataframe tbody tr th:only-of-type {\n",
       "        vertical-align: middle;\n",
       "    }\n",
       "\n",
       "    .dataframe tbody tr th {\n",
       "        vertical-align: top;\n",
       "    }\n",
       "\n",
       "    .dataframe thead th {\n",
       "        text-align: right;\n",
       "    }\n",
       "</style>\n",
       "<table border=\"1\" class=\"dataframe\">\n",
       "  <thead>\n",
       "    <tr style=\"text-align: right;\">\n",
       "      <th></th>\n",
       "      <th>School Type</th>\n",
       "      <th>Total Students</th>\n",
       "      <th>Total School Budget</th>\n",
       "      <th>Per Student Budget</th>\n",
       "      <th>Average Maths Score</th>\n",
       "      <th>Average Reading Score</th>\n",
       "      <th>% Passing Maths</th>\n",
       "      <th>% Passing Reading</th>\n",
       "      <th>% Overall Passing</th>\n",
       "    </tr>\n",
       "  </thead>\n",
       "  <tbody>\n",
       "    <tr>\n",
       "      <th>Griffin High School</th>\n",
       "      <td>Independent</td>\n",
       "      <td>1468</td>\n",
       "      <td>$917,500.00</td>\n",
       "      <td>$625.00</td>\n",
       "      <td>71.79</td>\n",
       "      <td>71.25</td>\n",
       "      <td>91.21</td>\n",
       "      <td>88.49</td>\n",
       "      <td>81.34</td>\n",
       "    </tr>\n",
       "    <tr>\n",
       "      <th>Cabrera High School</th>\n",
       "      <td>Independent</td>\n",
       "      <td>1858</td>\n",
       "      <td>$1,081,356.00</td>\n",
       "      <td>$582.00</td>\n",
       "      <td>71.66</td>\n",
       "      <td>71.36</td>\n",
       "      <td>90.85</td>\n",
       "      <td>89.07</td>\n",
       "      <td>80.79</td>\n",
       "    </tr>\n",
       "    <tr>\n",
       "      <th>Bailey High School</th>\n",
       "      <td>Government</td>\n",
       "      <td>4976</td>\n",
       "      <td>$3,124,928.00</td>\n",
       "      <td>$628.00</td>\n",
       "      <td>72.35</td>\n",
       "      <td>71.01</td>\n",
       "      <td>91.64</td>\n",
       "      <td>87.38</td>\n",
       "      <td>80.08</td>\n",
       "    </tr>\n",
       "    <tr>\n",
       "      <th>Wright High School</th>\n",
       "      <td>Independent</td>\n",
       "      <td>1800</td>\n",
       "      <td>$1,049,400.00</td>\n",
       "      <td>$583.00</td>\n",
       "      <td>72.05</td>\n",
       "      <td>70.97</td>\n",
       "      <td>91.78</td>\n",
       "      <td>86.67</td>\n",
       "      <td>79.72</td>\n",
       "    </tr>\n",
       "    <tr>\n",
       "      <th>Rodriguez High School</th>\n",
       "      <td>Government</td>\n",
       "      <td>3999</td>\n",
       "      <td>$2,547,363.00</td>\n",
       "      <td>$637.00</td>\n",
       "      <td>72.05</td>\n",
       "      <td>70.94</td>\n",
       "      <td>90.80</td>\n",
       "      <td>87.40</td>\n",
       "      <td>79.42</td>\n",
       "    </tr>\n",
       "  </tbody>\n",
       "</table>\n",
       "</div>"
      ],
      "text/plain": [
       "                       School Type  Total Students Total School Budget  \\\n",
       "Griffin High School    Independent            1468         $917,500.00   \n",
       "Cabrera High School    Independent            1858       $1,081,356.00   \n",
       "Bailey High School      Government            4976       $3,124,928.00   \n",
       "Wright High School     Independent            1800       $1,049,400.00   \n",
       "Rodriguez High School   Government            3999       $2,547,363.00   \n",
       "\n",
       "                      Per Student Budget  Average Maths Score  \\\n",
       "Griffin High School              $625.00                71.79   \n",
       "Cabrera High School              $582.00                71.66   \n",
       "Bailey High School               $628.00                72.35   \n",
       "Wright High School               $583.00                72.05   \n",
       "Rodriguez High School            $637.00                72.05   \n",
       "\n",
       "                       Average Reading Score  % Passing Maths  \\\n",
       "Griffin High School                    71.25            91.21   \n",
       "Cabrera High School                    71.36            90.85   \n",
       "Bailey High School                     71.01            91.64   \n",
       "Wright High School                     70.97            91.78   \n",
       "Rodriguez High School                  70.94            90.80   \n",
       "\n",
       "                       % Passing Reading  % Overall Passing  \n",
       "Griffin High School                88.49              81.34  \n",
       "Cabrera High School                89.07              80.79  \n",
       "Bailey High School                 87.38              80.08  \n",
       "Wright High School                 86.67              79.72  \n",
       "Rodriguez High School              87.40              79.42  "
      ]
     },
     "execution_count": 26,
     "metadata": {},
     "output_type": "execute_result"
    }
   ],
   "source": [
    "# sort the the dataframe from the greatest to the lowest percentage overall passing.\n",
    "top_schools = school_summary.sort_values('% Overall Passing', ascending = False)\n",
    "# display the top 5 results\n",
    "top_schools.head(5)"
   ]
  },
  {
   "cell_type": "markdown",
   "metadata": {},
   "source": [
    "## Bottom Performing Schools (By % Overall Passing)"
   ]
  },
  {
   "cell_type": "markdown",
   "metadata": {},
   "source": [
    "* Sort and display the five worst-performing schools by % overall passing."
   ]
  },
  {
   "cell_type": "code",
   "execution_count": 27,
   "metadata": {
    "tags": []
   },
   "outputs": [
    {
     "data": {
      "text/html": [
       "<div>\n",
       "<style scoped>\n",
       "    .dataframe tbody tr th:only-of-type {\n",
       "        vertical-align: middle;\n",
       "    }\n",
       "\n",
       "    .dataframe tbody tr th {\n",
       "        vertical-align: top;\n",
       "    }\n",
       "\n",
       "    .dataframe thead th {\n",
       "        text-align: right;\n",
       "    }\n",
       "</style>\n",
       "<table border=\"1\" class=\"dataframe\">\n",
       "  <thead>\n",
       "    <tr style=\"text-align: right;\">\n",
       "      <th></th>\n",
       "      <th>School Type</th>\n",
       "      <th>Total Students</th>\n",
       "      <th>Total School Budget</th>\n",
       "      <th>Per Student Budget</th>\n",
       "      <th>Average Maths Score</th>\n",
       "      <th>Average Reading Score</th>\n",
       "      <th>% Passing Maths</th>\n",
       "      <th>% Passing Reading</th>\n",
       "      <th>% Overall Passing</th>\n",
       "    </tr>\n",
       "  </thead>\n",
       "  <tbody>\n",
       "    <tr>\n",
       "      <th>Hernandez High School</th>\n",
       "      <td>Government</td>\n",
       "      <td>4635</td>\n",
       "      <td>$3,022,020.00</td>\n",
       "      <td>$652.00</td>\n",
       "      <td>68.87</td>\n",
       "      <td>69.19</td>\n",
       "      <td>80.95</td>\n",
       "      <td>81.88</td>\n",
       "      <td>66.36</td>\n",
       "    </tr>\n",
       "    <tr>\n",
       "      <th>Huang High School</th>\n",
       "      <td>Government</td>\n",
       "      <td>2917</td>\n",
       "      <td>$1,910,635.00</td>\n",
       "      <td>$655.00</td>\n",
       "      <td>68.94</td>\n",
       "      <td>68.91</td>\n",
       "      <td>81.69</td>\n",
       "      <td>81.45</td>\n",
       "      <td>66.71</td>\n",
       "    </tr>\n",
       "    <tr>\n",
       "      <th>Johnson High School</th>\n",
       "      <td>Government</td>\n",
       "      <td>4761</td>\n",
       "      <td>$3,094,650.00</td>\n",
       "      <td>$650.00</td>\n",
       "      <td>68.84</td>\n",
       "      <td>69.04</td>\n",
       "      <td>82.06</td>\n",
       "      <td>81.98</td>\n",
       "      <td>67.19</td>\n",
       "    </tr>\n",
       "    <tr>\n",
       "      <th>Wilson High School</th>\n",
       "      <td>Independent</td>\n",
       "      <td>2283</td>\n",
       "      <td>$1,319,574.00</td>\n",
       "      <td>$578.00</td>\n",
       "      <td>69.17</td>\n",
       "      <td>68.88</td>\n",
       "      <td>82.79</td>\n",
       "      <td>81.30</td>\n",
       "      <td>67.46</td>\n",
       "    </tr>\n",
       "    <tr>\n",
       "      <th>Ford High School</th>\n",
       "      <td>Government</td>\n",
       "      <td>2739</td>\n",
       "      <td>$1,763,916.00</td>\n",
       "      <td>$644.00</td>\n",
       "      <td>69.09</td>\n",
       "      <td>69.57</td>\n",
       "      <td>82.44</td>\n",
       "      <td>82.22</td>\n",
       "      <td>67.47</td>\n",
       "    </tr>\n",
       "  </tbody>\n",
       "</table>\n",
       "</div>"
      ],
      "text/plain": [
       "                       School Type  Total Students Total School Budget  \\\n",
       "Hernandez High School   Government            4635       $3,022,020.00   \n",
       "Huang High School       Government            2917       $1,910,635.00   \n",
       "Johnson High School     Government            4761       $3,094,650.00   \n",
       "Wilson High School     Independent            2283       $1,319,574.00   \n",
       "Ford High School        Government            2739       $1,763,916.00   \n",
       "\n",
       "                      Per Student Budget  Average Maths Score  \\\n",
       "Hernandez High School            $652.00                68.87   \n",
       "Huang High School                $655.00                68.94   \n",
       "Johnson High School              $650.00                68.84   \n",
       "Wilson High School               $578.00                69.17   \n",
       "Ford High School                 $644.00                69.09   \n",
       "\n",
       "                       Average Reading Score  % Passing Maths  \\\n",
       "Hernandez High School                  69.19            80.95   \n",
       "Huang High School                      68.91            81.69   \n",
       "Johnson High School                    69.04            82.06   \n",
       "Wilson High School                     68.88            82.79   \n",
       "Ford High School                       69.57            82.44   \n",
       "\n",
       "                       % Passing Reading  % Overall Passing  \n",
       "Hernandez High School              81.88              66.36  \n",
       "Huang High School                  81.45              66.71  \n",
       "Johnson High School                81.98              67.19  \n",
       "Wilson High School                 81.30              67.46  \n",
       "Ford High School                   82.22              67.47  "
      ]
     },
     "execution_count": 27,
     "metadata": {},
     "output_type": "execute_result"
    }
   ],
   "source": [
    "# sort the the dataframe from the lowest to the greatest percentage overall passing.\n",
    "bottom_schools = school_summary.sort_values('% Overall Passing')\n",
    "# display the top 5 results of the list\n",
    "bottom_schools.head(5)"
   ]
  },
  {
   "cell_type": "markdown",
   "metadata": {},
   "source": [
    "## Maths Scores by Year"
   ]
  },
  {
   "cell_type": "markdown",
   "metadata": {},
   "source": [
    "* Create a table that lists the average maths score for students of each year level (9, 10, 11, 12) at each school.\n",
    "\n",
    "  * Create a pandas series for each year. Hint: use a conditional statement.\n",
    "  \n",
    "  * Group each series by school\n",
    "  \n",
    "  * Combine the series into a dataframe\n",
    "  \n",
    "  * Optional: give the displayed data cleaner formatting"
   ]
  },
  {
   "cell_type": "code",
   "execution_count": 28,
   "metadata": {
    "tags": []
   },
   "outputs": [],
   "source": [
    "# filter the dataframe with only year 9 students\n",
    "year9_df = student_data.loc[(student_data['year'] == 9),:]\n",
    "\n",
    "# group the filtered data by School Name\n",
    "grouped_y9_df = year9_df.groupby(['school_name']) \n",
    "\n",
    "# calculate the mean of year 9 students maths score\n",
    "y9_maths_avg = round(grouped_y9_df['maths_score'].mean(),1)\n",
    "# calculate the mean of year 9 students reading score\n",
    "y9_reading_avg = round(grouped_y9_df['reading_score'].mean(),1)\n"
   ]
  },
  {
   "cell_type": "code",
   "execution_count": 29,
   "metadata": {
    "tags": []
   },
   "outputs": [],
   "source": [
    "# filter the dataframe with only year 10 students\n",
    "year10_df = student_data.loc[(student_data['year'] == 10),:]\n",
    "\n",
    "# group the filtered data by School Name\n",
    "grouped_y10_df = year10_df.groupby(['school_name']) \n",
    "\n",
    "# calculate the mean of year 10 students maths score\n",
    "y10_maths_avg = round(grouped_y10_df['maths_score'].mean(),1)\n",
    "# calculate the mean of year 10 students reading score\n",
    "y10_reading_avg = round(grouped_y10_df['reading_score'].mean(),1)"
   ]
  },
  {
   "cell_type": "code",
   "execution_count": 30,
   "metadata": {
    "tags": []
   },
   "outputs": [],
   "source": [
    "# filter the dataframe with only year 11 students\n",
    "year11_df = student_data.loc[(student_data['year'] == 11),:]\n",
    "\n",
    "# group the filtered data by School Name\n",
    "grouped_y11_df = year11_df.groupby(['school_name']) \n",
    "\n",
    "# calculate the mean of year 11 students maths score\n",
    "y11_maths_avg = round(grouped_y11_df['maths_score'].mean(),1)\n",
    "# calculate the mean of year 11 students reading score\n",
    "y11_reading_avg = round(grouped_y11_df['reading_score'].mean(),1)"
   ]
  },
  {
   "cell_type": "code",
   "execution_count": 31,
   "metadata": {
    "tags": []
   },
   "outputs": [],
   "source": [
    "# filter the dataframe with only year 12 students\n",
    "year12_df = student_data.loc[(student_data['year'] == 12),:]\n",
    "\n",
    "# group the filtered data by School Name\n",
    "grouped_y12_df = year12_df.groupby(['school_name']) \n",
    "\n",
    "# calculate the mean of year 12 students maths score\n",
    "y12_maths_avg = round(grouped_y12_df['maths_score'].mean(),1)\n",
    "\n",
    "# calculate the mean of year 12 students reading score\n",
    "y12_reading_avg = round(grouped_y12_df['reading_score'].mean(),1)"
   ]
  },
  {
   "cell_type": "code",
   "execution_count": 32,
   "metadata": {
    "tags": []
   },
   "outputs": [
    {
     "data": {
      "text/html": [
       "<div>\n",
       "<style scoped>\n",
       "    .dataframe tbody tr th:only-of-type {\n",
       "        vertical-align: middle;\n",
       "    }\n",
       "\n",
       "    .dataframe tbody tr th {\n",
       "        vertical-align: top;\n",
       "    }\n",
       "\n",
       "    .dataframe thead th {\n",
       "        text-align: right;\n",
       "    }\n",
       "</style>\n",
       "<table border=\"1\" class=\"dataframe\">\n",
       "  <thead>\n",
       "    <tr style=\"text-align: right;\">\n",
       "      <th></th>\n",
       "      <th>Year 9</th>\n",
       "      <th>Year 10</th>\n",
       "      <th>Year 11</th>\n",
       "      <th>Year 12</th>\n",
       "    </tr>\n",
       "    <tr>\n",
       "      <th>school_name</th>\n",
       "      <th></th>\n",
       "      <th></th>\n",
       "      <th></th>\n",
       "      <th></th>\n",
       "    </tr>\n",
       "  </thead>\n",
       "  <tbody>\n",
       "    <tr>\n",
       "      <th>Bailey High School</th>\n",
       "      <td>72.5</td>\n",
       "      <td>71.9</td>\n",
       "      <td>72.4</td>\n",
       "      <td>72.7</td>\n",
       "    </tr>\n",
       "    <tr>\n",
       "      <th>Cabrera High School</th>\n",
       "      <td>72.3</td>\n",
       "      <td>72.4</td>\n",
       "      <td>71.0</td>\n",
       "      <td>70.6</td>\n",
       "    </tr>\n",
       "    <tr>\n",
       "      <th>Figueroa High School</th>\n",
       "      <td>68.5</td>\n",
       "      <td>68.3</td>\n",
       "      <td>68.8</td>\n",
       "      <td>69.3</td>\n",
       "    </tr>\n",
       "    <tr>\n",
       "      <th>Ford High School</th>\n",
       "      <td>69.0</td>\n",
       "      <td>69.4</td>\n",
       "      <td>69.2</td>\n",
       "      <td>68.6</td>\n",
       "    </tr>\n",
       "    <tr>\n",
       "      <th>Griffin High School</th>\n",
       "      <td>72.8</td>\n",
       "      <td>71.1</td>\n",
       "      <td>71.7</td>\n",
       "      <td>71.5</td>\n",
       "    </tr>\n",
       "    <tr>\n",
       "      <th>Hernandez High School</th>\n",
       "      <td>68.6</td>\n",
       "      <td>68.9</td>\n",
       "      <td>69.2</td>\n",
       "      <td>69.0</td>\n",
       "    </tr>\n",
       "    <tr>\n",
       "      <th>Holden High School</th>\n",
       "      <td>70.5</td>\n",
       "      <td>75.1</td>\n",
       "      <td>71.6</td>\n",
       "      <td>73.4</td>\n",
       "    </tr>\n",
       "    <tr>\n",
       "      <th>Huang High School</th>\n",
       "      <td>69.1</td>\n",
       "      <td>68.5</td>\n",
       "      <td>69.4</td>\n",
       "      <td>68.6</td>\n",
       "    </tr>\n",
       "    <tr>\n",
       "      <th>Johnson High School</th>\n",
       "      <td>69.5</td>\n",
       "      <td>68.0</td>\n",
       "      <td>68.6</td>\n",
       "      <td>69.3</td>\n",
       "    </tr>\n",
       "    <tr>\n",
       "      <th>Pena High School</th>\n",
       "      <td>72.0</td>\n",
       "      <td>72.4</td>\n",
       "      <td>72.5</td>\n",
       "      <td>71.2</td>\n",
       "    </tr>\n",
       "    <tr>\n",
       "      <th>Rodriguez High School</th>\n",
       "      <td>71.9</td>\n",
       "      <td>71.8</td>\n",
       "      <td>72.4</td>\n",
       "      <td>72.2</td>\n",
       "    </tr>\n",
       "    <tr>\n",
       "      <th>Shelton High School</th>\n",
       "      <td>72.9</td>\n",
       "      <td>72.5</td>\n",
       "      <td>70.1</td>\n",
       "      <td>72.3</td>\n",
       "    </tr>\n",
       "    <tr>\n",
       "      <th>Thomas High School</th>\n",
       "      <td>69.2</td>\n",
       "      <td>70.1</td>\n",
       "      <td>69.7</td>\n",
       "      <td>69.4</td>\n",
       "    </tr>\n",
       "    <tr>\n",
       "      <th>Wilson High School</th>\n",
       "      <td>69.2</td>\n",
       "      <td>69.5</td>\n",
       "      <td>68.4</td>\n",
       "      <td>69.8</td>\n",
       "    </tr>\n",
       "    <tr>\n",
       "      <th>Wright High School</th>\n",
       "      <td>71.7</td>\n",
       "      <td>72.2</td>\n",
       "      <td>73.3</td>\n",
       "      <td>70.8</td>\n",
       "    </tr>\n",
       "  </tbody>\n",
       "</table>\n",
       "</div>"
      ],
      "text/plain": [
       "                       Year 9  Year 10  Year 11  Year 12\n",
       "school_name                                             \n",
       "Bailey High School       72.5     71.9     72.4     72.7\n",
       "Cabrera High School      72.3     72.4     71.0     70.6\n",
       "Figueroa High School     68.5     68.3     68.8     69.3\n",
       "Ford High School         69.0     69.4     69.2     68.6\n",
       "Griffin High School      72.8     71.1     71.7     71.5\n",
       "Hernandez High School    68.6     68.9     69.2     69.0\n",
       "Holden High School       70.5     75.1     71.6     73.4\n",
       "Huang High School        69.1     68.5     69.4     68.6\n",
       "Johnson High School      69.5     68.0     68.6     69.3\n",
       "Pena High School         72.0     72.4     72.5     71.2\n",
       "Rodriguez High School    71.9     71.8     72.4     72.2\n",
       "Shelton High School      72.9     72.5     70.1     72.3\n",
       "Thomas High School       69.2     70.1     69.7     69.4\n",
       "Wilson High School       69.2     69.5     68.4     69.8\n",
       "Wright High School       71.7     72.2     73.3     70.8"
      ]
     },
     "execution_count": 32,
     "metadata": {},
     "output_type": "execute_result"
    }
   ],
   "source": [
    "# create a Dataframe with the results found for maths\n",
    "maths_scores_by_year_df = pd.DataFrame({'Year 9':y9_maths_avg,\n",
    "                                       'Year 10':y10_maths_avg,\n",
    "                                       'Year 11':y11_maths_avg,\n",
    "                                       'Year 12':y12_maths_avg,\n",
    "                                       })\n",
    "\n",
    "# display the dataframe\n",
    "maths_scores_by_year_df"
   ]
  },
  {
   "cell_type": "markdown",
   "metadata": {},
   "source": [
    "## Reading Score by Year"
   ]
  },
  {
   "cell_type": "markdown",
   "metadata": {},
   "source": [
    "* Perform the same operations as above for reading scores"
   ]
  },
  {
   "cell_type": "code",
   "execution_count": 33,
   "metadata": {
    "tags": []
   },
   "outputs": [
    {
     "data": {
      "text/html": [
       "<div>\n",
       "<style scoped>\n",
       "    .dataframe tbody tr th:only-of-type {\n",
       "        vertical-align: middle;\n",
       "    }\n",
       "\n",
       "    .dataframe tbody tr th {\n",
       "        vertical-align: top;\n",
       "    }\n",
       "\n",
       "    .dataframe thead th {\n",
       "        text-align: right;\n",
       "    }\n",
       "</style>\n",
       "<table border=\"1\" class=\"dataframe\">\n",
       "  <thead>\n",
       "    <tr style=\"text-align: right;\">\n",
       "      <th></th>\n",
       "      <th>Year 9</th>\n",
       "      <th>Year 10</th>\n",
       "      <th>Year 11</th>\n",
       "      <th>Year 12</th>\n",
       "    </tr>\n",
       "    <tr>\n",
       "      <th>school_name</th>\n",
       "      <th></th>\n",
       "      <th></th>\n",
       "      <th></th>\n",
       "      <th></th>\n",
       "    </tr>\n",
       "  </thead>\n",
       "  <tbody>\n",
       "    <tr>\n",
       "      <th>Bailey High School</th>\n",
       "      <td>70.9</td>\n",
       "      <td>70.8</td>\n",
       "      <td>70.3</td>\n",
       "      <td>72.2</td>\n",
       "    </tr>\n",
       "    <tr>\n",
       "      <th>Cabrera High School</th>\n",
       "      <td>71.2</td>\n",
       "      <td>71.3</td>\n",
       "      <td>71.2</td>\n",
       "      <td>71.9</td>\n",
       "    </tr>\n",
       "    <tr>\n",
       "      <th>Figueroa High School</th>\n",
       "      <td>70.3</td>\n",
       "      <td>67.7</td>\n",
       "      <td>69.2</td>\n",
       "      <td>69.1</td>\n",
       "    </tr>\n",
       "    <tr>\n",
       "      <th>Ford High School</th>\n",
       "      <td>69.6</td>\n",
       "      <td>69.0</td>\n",
       "      <td>70.7</td>\n",
       "      <td>68.8</td>\n",
       "    </tr>\n",
       "    <tr>\n",
       "      <th>Griffin High School</th>\n",
       "      <td>72.0</td>\n",
       "      <td>70.7</td>\n",
       "      <td>72.4</td>\n",
       "      <td>69.4</td>\n",
       "    </tr>\n",
       "    <tr>\n",
       "      <th>Hernandez High School</th>\n",
       "      <td>68.5</td>\n",
       "      <td>70.6</td>\n",
       "      <td>68.4</td>\n",
       "      <td>69.2</td>\n",
       "    </tr>\n",
       "    <tr>\n",
       "      <th>Holden High School</th>\n",
       "      <td>71.6</td>\n",
       "      <td>71.1</td>\n",
       "      <td>73.3</td>\n",
       "      <td>70.5</td>\n",
       "    </tr>\n",
       "    <tr>\n",
       "      <th>Huang High School</th>\n",
       "      <td>68.7</td>\n",
       "      <td>69.5</td>\n",
       "      <td>68.7</td>\n",
       "      <td>68.7</td>\n",
       "    </tr>\n",
       "    <tr>\n",
       "      <th>Johnson High School</th>\n",
       "      <td>68.7</td>\n",
       "      <td>69.3</td>\n",
       "      <td>70.0</td>\n",
       "      <td>68.0</td>\n",
       "    </tr>\n",
       "    <tr>\n",
       "      <th>Pena High School</th>\n",
       "      <td>70.9</td>\n",
       "      <td>72.3</td>\n",
       "      <td>71.7</td>\n",
       "      <td>71.5</td>\n",
       "    </tr>\n",
       "    <tr>\n",
       "      <th>Rodriguez High School</th>\n",
       "      <td>70.9</td>\n",
       "      <td>70.1</td>\n",
       "      <td>71.4</td>\n",
       "      <td>71.4</td>\n",
       "    </tr>\n",
       "    <tr>\n",
       "      <th>Shelton High School</th>\n",
       "      <td>70.7</td>\n",
       "      <td>69.9</td>\n",
       "      <td>71.2</td>\n",
       "      <td>69.1</td>\n",
       "    </tr>\n",
       "    <tr>\n",
       "      <th>Thomas High School</th>\n",
       "      <td>69.7</td>\n",
       "      <td>69.7</td>\n",
       "      <td>70.7</td>\n",
       "      <td>68.7</td>\n",
       "    </tr>\n",
       "    <tr>\n",
       "      <th>Wilson High School</th>\n",
       "      <td>68.7</td>\n",
       "      <td>68.4</td>\n",
       "      <td>68.8</td>\n",
       "      <td>69.9</td>\n",
       "    </tr>\n",
       "    <tr>\n",
       "      <th>Wright High School</th>\n",
       "      <td>71.8</td>\n",
       "      <td>71.4</td>\n",
       "      <td>70.5</td>\n",
       "      <td>69.8</td>\n",
       "    </tr>\n",
       "  </tbody>\n",
       "</table>\n",
       "</div>"
      ],
      "text/plain": [
       "                       Year 9  Year 10  Year 11  Year 12\n",
       "school_name                                             \n",
       "Bailey High School       70.9     70.8     70.3     72.2\n",
       "Cabrera High School      71.2     71.3     71.2     71.9\n",
       "Figueroa High School     70.3     67.7     69.2     69.1\n",
       "Ford High School         69.6     69.0     70.7     68.8\n",
       "Griffin High School      72.0     70.7     72.4     69.4\n",
       "Hernandez High School    68.5     70.6     68.4     69.2\n",
       "Holden High School       71.6     71.1     73.3     70.5\n",
       "Huang High School        68.7     69.5     68.7     68.7\n",
       "Johnson High School      68.7     69.3     70.0     68.0\n",
       "Pena High School         70.9     72.3     71.7     71.5\n",
       "Rodriguez High School    70.9     70.1     71.4     71.4\n",
       "Shelton High School      70.7     69.9     71.2     69.1\n",
       "Thomas High School       69.7     69.7     70.7     68.7\n",
       "Wilson High School       68.7     68.4     68.8     69.9\n",
       "Wright High School       71.8     71.4     70.5     69.8"
      ]
     },
     "execution_count": 33,
     "metadata": {},
     "output_type": "execute_result"
    }
   ],
   "source": [
    "# create a Dataframe with the results found for reading\n",
    "reading_scores_by_year_df = pd.DataFrame({'Year 9':y9_reading_avg,\n",
    "                                       'Year 10':y10_reading_avg,\n",
    "                                       'Year 11':y11_reading_avg,\n",
    "                                       'Year 12':y12_reading_avg,\n",
    "                                       })\n",
    "# display the dataframe\n",
    "reading_scores_by_year_df"
   ]
  },
  {
   "cell_type": "markdown",
   "metadata": {},
   "source": [
    "## Scores by School Spending"
   ]
  },
  {
   "cell_type": "markdown",
   "metadata": {},
   "source": [
    "* Create a table that breaks down school performances based on average Spending Ranges (Per Student). Use 4 reasonable bins to group school spending. Include in the table each of the following:\n",
    "  * Average Maths Score\n",
    "  * Average Reading Score\n",
    "  * % Passing Maths\n",
    "  * % Passing Reading\n",
    "  * Overall Passing Rate (Average of the above two)"
   ]
  },
  {
   "cell_type": "code",
   "execution_count": 34,
   "metadata": {
    "tags": []
   },
   "outputs": [
    {
     "data": {
      "text/plain": [
       "School Type               object\n",
       "Total Students             int64\n",
       "Total School Budget       object\n",
       "Per Student Budget        object\n",
       "Average Maths Score      float64\n",
       "Average Reading Score    float64\n",
       "% Passing Maths          float64\n",
       "% Passing Reading        float64\n",
       "% Overall Passing        float64\n",
       "dtype: object"
      ]
     },
     "execution_count": 34,
     "metadata": {},
     "output_type": "execute_result"
    }
   ],
   "source": [
    "# create a copy of the dataframe to manipulate the data without interfering in the original one, already used for other calculations\n",
    "school_summary2 = school_summary.copy()\n",
    "# check the datatypes of the dataframe\n",
    "school_summary.dtypes"
   ]
  },
  {
   "cell_type": "code",
   "execution_count": 35,
   "metadata": {
    "tags": []
   },
   "outputs": [
    {
     "data": {
      "text/html": [
       "<div>\n",
       "<style scoped>\n",
       "    .dataframe tbody tr th:only-of-type {\n",
       "        vertical-align: middle;\n",
       "    }\n",
       "\n",
       "    .dataframe tbody tr th {\n",
       "        vertical-align: top;\n",
       "    }\n",
       "\n",
       "    .dataframe thead th {\n",
       "        text-align: right;\n",
       "    }\n",
       "</style>\n",
       "<table border=\"1\" class=\"dataframe\">\n",
       "  <thead>\n",
       "    <tr style=\"text-align: right;\">\n",
       "      <th></th>\n",
       "      <th>School Type</th>\n",
       "      <th>Total Students</th>\n",
       "      <th>Total School Budget</th>\n",
       "      <th>Per Student Budget</th>\n",
       "      <th>Average Maths Score</th>\n",
       "      <th>Average Reading Score</th>\n",
       "      <th>% Passing Maths</th>\n",
       "      <th>% Passing Reading</th>\n",
       "      <th>% Overall Passing</th>\n",
       "    </tr>\n",
       "  </thead>\n",
       "  <tbody>\n",
       "    <tr>\n",
       "      <th>Bailey High School</th>\n",
       "      <td>Government</td>\n",
       "      <td>4976</td>\n",
       "      <td>$3,124,928.00</td>\n",
       "      <td>$628.00</td>\n",
       "      <td>72.35</td>\n",
       "      <td>71.01</td>\n",
       "      <td>91.64</td>\n",
       "      <td>87.38</td>\n",
       "      <td>80.08</td>\n",
       "    </tr>\n",
       "    <tr>\n",
       "      <th>Cabrera High School</th>\n",
       "      <td>Independent</td>\n",
       "      <td>1858</td>\n",
       "      <td>$1,081,356.00</td>\n",
       "      <td>$582.00</td>\n",
       "      <td>71.66</td>\n",
       "      <td>71.36</td>\n",
       "      <td>90.85</td>\n",
       "      <td>89.07</td>\n",
       "      <td>80.79</td>\n",
       "    </tr>\n",
       "  </tbody>\n",
       "</table>\n",
       "</div>"
      ],
      "text/plain": [
       "                     School Type  Total Students Total School Budget  \\\n",
       "Bailey High School    Government            4976       $3,124,928.00   \n",
       "Cabrera High School  Independent            1858       $1,081,356.00   \n",
       "\n",
       "                    Per Student Budget  Average Maths Score  \\\n",
       "Bailey High School             $628.00                72.35   \n",
       "Cabrera High School            $582.00                71.66   \n",
       "\n",
       "                     Average Reading Score  % Passing Maths  \\\n",
       "Bailey High School                   71.01            91.64   \n",
       "Cabrera High School                  71.36            90.85   \n",
       "\n",
       "                     % Passing Reading  % Overall Passing  \n",
       "Bailey High School               87.38              80.08  \n",
       "Cabrera High School              89.07              80.79  "
      ]
     },
     "execution_count": 35,
     "metadata": {},
     "output_type": "execute_result"
    }
   ],
   "source": [
    "# present a snippet of the dataframe to check how data is presented\n",
    "school_summary2.head(2)"
   ]
  },
  {
   "cell_type": "code",
   "execution_count": 36,
   "metadata": {
    "tags": []
   },
   "outputs": [
    {
     "name": "stderr",
     "output_type": "stream",
     "text": [
      "/Users/fsantosvix/anaconda3/envs/myfirstpythonenv/lib/python3.7/site-packages/ipykernel_launcher.py:2: FutureWarning: The default value of regex will change from True to False in a future version. In addition, single character regular expressions will *not* be treated as literal strings when regex=True.\n",
      "  \n"
     ]
    }
   ],
   "source": [
    "# remove the '$' symbol from Per Student Budget and change the datatype to float, so we can make calculations using the column\n",
    "school_summary2['Per Student Budget'] = school_summary2['Per Student Budget'].str.replace('$','').astype('float')"
   ]
  },
  {
   "cell_type": "code",
   "execution_count": 37,
   "metadata": {
    "tags": []
   },
   "outputs": [],
   "source": [
    "# create bins and labels based on the budget per student\n",
    "bins = [0, 585, 630, 645, 680]\n",
    "labels = ['<\\$585','\\$585-$630','\\$630-$645','\\$645-$680']\n",
    "\n",
    "# add the labels to the dataframe\n",
    "school_summary2['Spending Ranges (per student)'] = pd.cut(school_summary2['Per Student Budget'], bins, labels = labels, include_lowest = True)\n"
   ]
  },
  {
   "cell_type": "code",
   "execution_count": 38,
   "metadata": {
    "tags": []
   },
   "outputs": [],
   "source": [
    "# group the data into the created bins\n",
    "spending_maths_scores = round(school_summary2.groupby(['Spending Ranges (per student)'])['Average Maths Score'].mean(),2)\n",
    "spending_reading_scores = round(school_summary2.groupby(['Spending Ranges (per student)'])['Average Reading Score'].mean(),2)\n",
    "spending_passing_maths_scores = round(school_summary2.groupby(['Spending Ranges (per student)'])['% Passing Maths'].mean(),2)\n",
    "spending_passing_reading_scores = round(school_summary2.groupby(['Spending Ranges (per student)'])['% Passing Reading'].mean(),2)\n",
    "overall_passing_spending_scores = round(school_summary2.groupby(['Spending Ranges (per student)'])['% Overall Passing'].mean(),2)"
   ]
  },
  {
   "cell_type": "code",
   "execution_count": 39,
   "metadata": {
    "tags": []
   },
   "outputs": [
    {
     "data": {
      "text/html": [
       "<div>\n",
       "<style scoped>\n",
       "    .dataframe tbody tr th:only-of-type {\n",
       "        vertical-align: middle;\n",
       "    }\n",
       "\n",
       "    .dataframe tbody tr th {\n",
       "        vertical-align: top;\n",
       "    }\n",
       "\n",
       "    .dataframe thead th {\n",
       "        text-align: right;\n",
       "    }\n",
       "</style>\n",
       "<table border=\"1\" class=\"dataframe\">\n",
       "  <thead>\n",
       "    <tr style=\"text-align: right;\">\n",
       "      <th></th>\n",
       "      <th>Average Maths Score</th>\n",
       "      <th>Average Reading Score</th>\n",
       "      <th>% Passing Maths</th>\n",
       "      <th>% Passing Reading</th>\n",
       "      <th>% Overall Passing</th>\n",
       "    </tr>\n",
       "    <tr>\n",
       "      <th>Spending Ranges (per student)</th>\n",
       "      <th></th>\n",
       "      <th></th>\n",
       "      <th></th>\n",
       "      <th></th>\n",
       "      <th></th>\n",
       "    </tr>\n",
       "  </thead>\n",
       "  <tbody>\n",
       "    <tr>\n",
       "      <th>&lt;\\$585</th>\n",
       "      <td>71.36</td>\n",
       "      <td>70.72</td>\n",
       "      <td>88.84</td>\n",
       "      <td>86.39</td>\n",
       "      <td>76.72</td>\n",
       "    </tr>\n",
       "    <tr>\n",
       "      <th>\\$585-$630</th>\n",
       "      <td>72.06</td>\n",
       "      <td>71.03</td>\n",
       "      <td>91.52</td>\n",
       "      <td>87.29</td>\n",
       "      <td>79.88</td>\n",
       "    </tr>\n",
       "    <tr>\n",
       "      <th>\\$630-$645</th>\n",
       "      <td>69.86</td>\n",
       "      <td>69.84</td>\n",
       "      <td>84.68</td>\n",
       "      <td>83.76</td>\n",
       "      <td>71.00</td>\n",
       "    </tr>\n",
       "    <tr>\n",
       "      <th>\\$645-$680</th>\n",
       "      <td>68.88</td>\n",
       "      <td>69.05</td>\n",
       "      <td>81.57</td>\n",
       "      <td>81.77</td>\n",
       "      <td>66.75</td>\n",
       "    </tr>\n",
       "  </tbody>\n",
       "</table>\n",
       "</div>"
      ],
      "text/plain": [
       "                               Average Maths Score  Average Reading Score  \\\n",
       "Spending Ranges (per student)                                               \n",
       "<\\$585                                       71.36                  70.72   \n",
       "\\$585-$630                                   72.06                  71.03   \n",
       "\\$630-$645                                   69.86                  69.84   \n",
       "\\$645-$680                                   68.88                  69.05   \n",
       "\n",
       "                               % Passing Maths  % Passing Reading  \\\n",
       "Spending Ranges (per student)                                       \n",
       "<\\$585                                   88.84              86.39   \n",
       "\\$585-$630                               91.52              87.29   \n",
       "\\$630-$645                               84.68              83.76   \n",
       "\\$645-$680                               81.57              81.77   \n",
       "\n",
       "                               % Overall Passing  \n",
       "Spending Ranges (per student)                     \n",
       "<\\$585                                     76.72  \n",
       "\\$585-$630                                 79.88  \n",
       "\\$630-$645                                 71.00  \n",
       "\\$645-$680                                 66.75  "
      ]
     },
     "execution_count": 39,
     "metadata": {},
     "output_type": "execute_result"
    }
   ],
   "source": [
    "# create a dataframe with the results\n",
    "spending_summary = pd.DataFrame({'Average Maths Score':spending_maths_scores,\n",
    "                                'Average Reading Score':spending_reading_scores,\n",
    "                                '% Passing Maths':spending_passing_maths_scores,\n",
    "                                '% Passing Reading':spending_passing_reading_scores,\n",
    "                                '% Overall Passing':overall_passing_spending_scores,\n",
    "                                })\n",
    "#display the dataframe\n",
    "spending_summary"
   ]
  },
  {
   "cell_type": "markdown",
   "metadata": {},
   "source": [
    "## Scores by School Size"
   ]
  },
  {
   "cell_type": "markdown",
   "metadata": {},
   "source": [
    "* Perform the same operations as above, based on school size."
   ]
  },
  {
   "cell_type": "code",
   "execution_count": 40,
   "metadata": {
    "tags": []
   },
   "outputs": [],
   "source": [
    "# create bins and labels based on the school size\n",
    "bins2 = [0, 1000, 2000, 5000]\n",
    "labels2 = ['Small(<1000)','Medium(1000-2000)','Large(2000-5000)']\n",
    "\n",
    "# add the labels to the dataframe\n",
    "school_summary2['School Size Bins'] = pd.cut(school_summary2['Total Students'], bins2, labels = labels2, include_lowest = True)\n"
   ]
  },
  {
   "cell_type": "code",
   "execution_count": 41,
   "metadata": {},
   "outputs": [],
   "source": [
    "# group the data into the created bins\n",
    "spending_maths_scores2 = round(school_summary2.groupby(['School Size Bins'])['Average Maths Score'].mean(),2)\n",
    "spending_reading_scores2 = round(school_summary2.groupby(['School Size Bins'])['Average Reading Score'].mean(),2)\n",
    "spending_passing_maths_scores2 = round(school_summary2.groupby(['School Size Bins'])['% Passing Maths'].mean(),2)\n",
    "spending_passing_reading_scores2 = round(school_summary2.groupby(['School Size Bins'])['% Passing Reading'].mean(),2)\n",
    "overall_passing_spending_scores2 = round(school_summary2.groupby(['School Size Bins'])['% Overall Passing'].mean(),2)"
   ]
  },
  {
   "cell_type": "code",
   "execution_count": 42,
   "metadata": {
    "tags": []
   },
   "outputs": [
    {
     "data": {
      "text/html": [
       "<div>\n",
       "<style scoped>\n",
       "    .dataframe tbody tr th:only-of-type {\n",
       "        vertical-align: middle;\n",
       "    }\n",
       "\n",
       "    .dataframe tbody tr th {\n",
       "        vertical-align: top;\n",
       "    }\n",
       "\n",
       "    .dataframe thead th {\n",
       "        text-align: right;\n",
       "    }\n",
       "</style>\n",
       "<table border=\"1\" class=\"dataframe\">\n",
       "  <thead>\n",
       "    <tr style=\"text-align: right;\">\n",
       "      <th></th>\n",
       "      <th>Average Maths Score</th>\n",
       "      <th>Average Reading Score</th>\n",
       "      <th>% Passing Maths</th>\n",
       "      <th>% Passing Reading</th>\n",
       "      <th>% Overall Passing</th>\n",
       "    </tr>\n",
       "    <tr>\n",
       "      <th>School Size Bins</th>\n",
       "      <th></th>\n",
       "      <th></th>\n",
       "      <th></th>\n",
       "      <th></th>\n",
       "      <th></th>\n",
       "    </tr>\n",
       "  </thead>\n",
       "  <tbody>\n",
       "    <tr>\n",
       "      <th>Small(&lt;1000)</th>\n",
       "      <td>72.34</td>\n",
       "      <td>71.63</td>\n",
       "      <td>90.80</td>\n",
       "      <td>87.56</td>\n",
       "      <td>79.06</td>\n",
       "    </tr>\n",
       "    <tr>\n",
       "      <th>Medium(1000-2000)</th>\n",
       "      <td>71.42</td>\n",
       "      <td>70.72</td>\n",
       "      <td>89.85</td>\n",
       "      <td>86.71</td>\n",
       "      <td>78.04</td>\n",
       "    </tr>\n",
       "    <tr>\n",
       "      <th>Large(2000-5000)</th>\n",
       "      <td>69.75</td>\n",
       "      <td>69.58</td>\n",
       "      <td>84.25</td>\n",
       "      <td>83.30</td>\n",
       "      <td>70.29</td>\n",
       "    </tr>\n",
       "  </tbody>\n",
       "</table>\n",
       "</div>"
      ],
      "text/plain": [
       "                   Average Maths Score  Average Reading Score  \\\n",
       "School Size Bins                                                \n",
       "Small(<1000)                     72.34                  71.63   \n",
       "Medium(1000-2000)                71.42                  70.72   \n",
       "Large(2000-5000)                 69.75                  69.58   \n",
       "\n",
       "                   % Passing Maths  % Passing Reading  % Overall Passing  \n",
       "School Size Bins                                                          \n",
       "Small(<1000)                 90.80              87.56              79.06  \n",
       "Medium(1000-2000)            89.85              86.71              78.04  \n",
       "Large(2000-5000)             84.25              83.30              70.29  "
      ]
     },
     "execution_count": 42,
     "metadata": {},
     "output_type": "execute_result"
    }
   ],
   "source": [
    "# create a dataframe with the results\n",
    "size_summary = pd.DataFrame({'Average Maths Score':spending_maths_scores2,\n",
    "                                'Average Reading Score':spending_reading_scores2,\n",
    "                                '% Passing Maths':spending_passing_maths_scores2,\n",
    "                                '% Passing Reading':spending_passing_reading_scores2,\n",
    "                                '% Overall Passing':overall_passing_spending_scores2,\n",
    "                                })\n",
    "# display the dataframe\n",
    "size_summary"
   ]
  },
  {
   "cell_type": "markdown",
   "metadata": {},
   "source": [
    "## Scores by School Type"
   ]
  },
  {
   "cell_type": "markdown",
   "metadata": {},
   "source": [
    "* Perform the same operations as above, based on school type"
   ]
  },
  {
   "cell_type": "code",
   "execution_count": 43,
   "metadata": {
    "tags": []
   },
   "outputs": [],
   "source": [
    "# group the data by school type (information already in the dataset)\n",
    "spending_maths_scores3 = round(school_summary2.groupby(['School Type'])['Average Maths Score'].mean(),2)\n",
    "spending_reading_scores3 = round(school_summary2.groupby(['School Type'])['Average Reading Score'].mean(),2)\n",
    "spending_passing_maths_scores3 = round(school_summary2.groupby(['School Type'])['% Passing Maths'].mean(),2)\n",
    "spending_passing_reading_scores3 = round(school_summary2.groupby(['School Type'])['% Passing Reading'].mean(),2)\n",
    "overall_passing_spending_scores3 = round(school_summary2.groupby(['School Type'])['% Overall Passing'].mean(),2)"
   ]
  },
  {
   "cell_type": "code",
   "execution_count": 44,
   "metadata": {
    "tags": []
   },
   "outputs": [
    {
     "data": {
      "text/html": [
       "<div>\n",
       "<style scoped>\n",
       "    .dataframe tbody tr th:only-of-type {\n",
       "        vertical-align: middle;\n",
       "    }\n",
       "\n",
       "    .dataframe tbody tr th {\n",
       "        vertical-align: top;\n",
       "    }\n",
       "\n",
       "    .dataframe thead th {\n",
       "        text-align: right;\n",
       "    }\n",
       "</style>\n",
       "<table border=\"1\" class=\"dataframe\">\n",
       "  <thead>\n",
       "    <tr style=\"text-align: right;\">\n",
       "      <th></th>\n",
       "      <th>Average Maths Score</th>\n",
       "      <th>Average Reading Score</th>\n",
       "      <th>% Passing Maths</th>\n",
       "      <th>% Passing Reading</th>\n",
       "      <th>% Overall Passing</th>\n",
       "    </tr>\n",
       "    <tr>\n",
       "      <th>School Type</th>\n",
       "      <th></th>\n",
       "      <th></th>\n",
       "      <th></th>\n",
       "      <th></th>\n",
       "      <th></th>\n",
       "    </tr>\n",
       "  </thead>\n",
       "  <tbody>\n",
       "    <tr>\n",
       "      <th>Government</th>\n",
       "      <td>69.83</td>\n",
       "      <td>69.68</td>\n",
       "      <td>84.46</td>\n",
       "      <td>83.59</td>\n",
       "      <td>70.70</td>\n",
       "    </tr>\n",
       "    <tr>\n",
       "      <th>Independent</th>\n",
       "      <td>71.37</td>\n",
       "      <td>70.72</td>\n",
       "      <td>89.20</td>\n",
       "      <td>86.25</td>\n",
       "      <td>76.97</td>\n",
       "    </tr>\n",
       "  </tbody>\n",
       "</table>\n",
       "</div>"
      ],
      "text/plain": [
       "             Average Maths Score  Average Reading Score  % Passing Maths  \\\n",
       "School Type                                                                \n",
       "Government                 69.83                  69.68            84.46   \n",
       "Independent                71.37                  70.72            89.20   \n",
       "\n",
       "             % Passing Reading  % Overall Passing  \n",
       "School Type                                        \n",
       "Government               83.59              70.70  \n",
       "Independent              86.25              76.97  "
      ]
     },
     "execution_count": 44,
     "metadata": {},
     "output_type": "execute_result"
    }
   ],
   "source": [
    "# create a dataframe with the results\n",
    "type_summary = pd.DataFrame({'Average Maths Score':spending_maths_scores3,\n",
    "                                'Average Reading Score':spending_reading_scores3,\n",
    "                                '% Passing Maths':spending_passing_maths_scores3,\n",
    "                                '% Passing Reading':spending_passing_reading_scores3,\n",
    "                                '% Overall Passing':overall_passing_spending_scores3,\n",
    "                                })\n",
    "# display the dataframe\n",
    "type_summary"
   ]
  },
  {
   "cell_type": "code",
   "execution_count": null,
   "metadata": {},
   "outputs": [],
   "source": []
  }
 ],
 "metadata": {
  "anaconda-cloud": {},
  "kernel_info": {
   "name": "python3"
  },
  "kernelspec": {
   "display_name": "Python 3 (ipykernel)",
   "language": "python",
   "name": "python3"
  },
  "language_info": {
   "codemirror_mode": {
    "name": "ipython",
    "version": 3
   },
   "file_extension": ".py",
   "mimetype": "text/x-python",
   "name": "python",
   "nbconvert_exporter": "python",
   "pygments_lexer": "ipython3",
   "version": "3.7.13"
  },
  "latex_envs": {
   "LaTeX_envs_menu_present": true,
   "autoclose": false,
   "autocomplete": true,
   "bibliofile": "biblio.bib",
   "cite_by": "apalike",
   "current_citInitial": 1,
   "eqLabelWithNumbers": true,
   "eqNumInitial": 1,
   "hotkeys": {
    "equation": "Ctrl-E",
    "itemize": "Ctrl-I"
   },
   "labels_anchors": false,
   "latex_user_defs": false,
   "report_style_numbering": false,
   "user_envs_cfg": false
  },
  "nteract": {
   "version": "0.8.4"
  }
 },
 "nbformat": 4,
 "nbformat_minor": 4
}
